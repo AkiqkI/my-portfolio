{
 "cells": [
  {
   "cell_type": "markdown",
   "metadata": {},
   "source": [
    "# About Me\n",
    "Aspiring Data Scientist with a strong background in psychology, research, and social impact programs. I bring extensive experience in managing data-driven projects in non-profit and academic environments, having recently transitioned into data science through intensive training in the Field. Passionate about leveraging analytical tools to uncover actionable insights that improve systems and support underserved communities."
   ]
  },
  {
   "cell_type": "markdown",
   "metadata": {},
   "source": [
    "# Education in Data Science & Analytics\n",
    "**TripleTen – Data Science Bootcamp**\n",
    "April 2025 – Present\n",
    "- April 2025: Basic Python\n",
    "- April 2025: Working with Data in Python\n",
    "- May 2025: Exploratory Data Analysis (EDA)\n",
    "- May 2025: Statistical Data Analysis\n",
    "- June 2025 – Present: Software Development Tools\n",
    "\n",
    "**Meta Data Analyst Professional Certificate – Coursera**\n",
    "November 2024 – March 2025\n",
    "- Introduction to Data Analytics\n",
    "- Data Analysis with Spreadsheets and SQL\n",
    "- Python Data Analytics\n",
    "- Statistics Foundations\n",
    "- Introduction to Data Management\n",
    "\n",
    "**University of California, Irvine – Coursera**\n",
    "September – October 2024\n",
    "- Introduction to Analytic Thinking, Data Science, and Data Mining"
   ]
  },
  {
   "cell_type": "markdown",
   "metadata": {},
   "source": [
    "# Technical Skills Summary\n",
    "**Languages & Tools:** Python (Pandas, NumPy, Matplotlib), SQL, Excel, SPSS, Git, GitHub, GitHub Copilot\n",
    "**Data Handling:** Data wrangling, data cleaning, EDA, statistical testing\n",
    "**Visualization & Reporting:** Charts, dashboards, descriptive analytics\n",
    "**Tools & Platforms:** Jupyter Notebook, RedCap, Google Sheets, Google Forms\n",
    "**Other Skills:** Research design, collaborative workflows, workshop facilitation\n",
    "**Languages:** Native Spanish, Fluent English"
   ]
  },
  {
   "cell_type": "markdown",
   "metadata": {},
   "source": [
    "# Relevant Professional Experience\n",
    "**Project Manager – Plena Inclusión Madrid**\n",
    "Nov 2021 – May 2024\n",
    "- Led multi-partner social inclusion and accessibility projects.\n",
    "- Managed quantitative and qualitative data collection and synthesis.\n",
    "- Developed educational and technical materials from data insights.\n",
    "\n",
    "**Research Technician – Autismo España**\n",
    "Oct 2017 – Oct 2021\n",
    "- Collected and analyzed research data using SPSS and Excel.\n",
    "- Created summaries, dashboards and visual reports for stakeholders.\n",
    "- Contributed to national studies in autism, accessibility and education.\n",
    "\n",
    "**Clinical & Research Assistant – Stanford University**\n",
    "Feb 2015 – May 2017\n",
    "- Participated in a behavioral study with children with autism.\n",
    "- Handled structured behavioral observations and data entry.\n",
    "- Supported researchers in analysis and dissemination efforts."
   ]
  }
 ],
 "metadata": {
  "language_info": {
   "name": "python"
  }
 },
 "nbformat": 4,
 "nbformat_minor": 5
}
